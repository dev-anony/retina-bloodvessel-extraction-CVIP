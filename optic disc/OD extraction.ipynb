{
 "cells": [
  {
   "cell_type": "code",
   "execution_count": 1,
   "metadata": {
    "id": "yU5wOfzjQ8iR"
   },
   "outputs": [
    {
     "name": "stderr",
     "output_type": "stream",
     "text": [
      "2024-06-22 11:59:25.917951: I tensorflow/core/platform/cpu_feature_guard.cc:210] This TensorFlow binary is optimized to use available CPU instructions in performance-critical operations.\n",
      "To enable the following instructions: SSE4.1 SSE4.2 AVX AVX2 AVX512F FMA, in other operations, rebuild TensorFlow with the appropriate compiler flags.\n"
     ]
    }
   ],
   "source": [
    "import tensorflow as tf\n",
    "import cv2\n",
    "import keras\n",
    "import os\n",
    "import pandas as pd\n",
    "import matplotlib.pyplot as plt\n",
    "import numpy as np\n",
    "from keras.callbacks import ModelCheckpoint\n",
    "import pickle"
   ]
  },
  {
   "cell_type": "code",
   "execution_count": 41,
   "metadata": {},
   "outputs": [],
   "source": [
    "# Data Augmentations\n",
    "def fliplr(image):\n",
    "    image = cv2.flip(image, 1)\n",
    "    return image\n",
    "\n",
    "def flipud(image):\n",
    "    image = cv2.flip(image, 0)\n",
    "    return image"
   ]
  },
  {
   "cell_type": "code",
   "execution_count": null,
   "metadata": {},
   "outputs": [],
   "source": [
    "target_height, target_width = 80, 80\n",
    "number_of_classes = 2"
   ]
  },
  {
   "cell_type": "code",
   "execution_count": 4,
   "metadata": {},
   "outputs": [],
   "source": [
    "def load_and_preprocess2(image_path):\n",
    "    img = cv2.imread(image_path) # 3 channel image\n",
    "    if img is None:\n",
    "        print('Error loading image: ', f'{image_path}')\n",
    "        return None\n",
    "    print(\"Original image size: \", f'{img.shape}')\n",
    "    image = cv2.imread(image_path, cv2.COLOR_BGR2LAB)\n",
    "    crop = img\n",
    "    L, a, b = cv2.split(image)\n",
    "    kernel_size = 20\n",
    "\n",
    "    kernel_v = np.zeros((kernel_size, kernel_size))\n",
    "    kernel_h = np.copy(kernel_v)\n",
    "    kernel_d1 = np.copy(kernel_v)\n",
    "    kernel_d2 = np.copy(kernel_v)\n",
    "\n",
    "    kernel_v[:, int((kernel_size - 1)/2)] = np.ones(kernel_size)\n",
    "    kernel_h[int((kernel_size - 1)/2), :] = np.ones(kernel_size)\n",
    "\n",
    "    for i in range(kernel_size):\n",
    "        kernel_d1[i, i] = 1\n",
    "\n",
    "    for i in range(kernel_size):\n",
    "        kernel_d2[i, kernel_size - i - 1] = 1\n",
    "\n",
    "    kernel_v /= kernel_size\n",
    "    kernel_h /= kernel_size\n",
    "    kernel_d1 /= kernel_size\n",
    "    kernel_d2 /= kernel_size\n",
    "\n",
    "    vertical_mb = cv2.filter2D(b, -1, kernel_v)\n",
    "\n",
    "    horizonal_mb = cv2.filter2D(b, -1, kernel_h)\n",
    "\n",
    "    d1_mb = cv2.filter2D(b, -1, kernel_d1)\n",
    "\n",
    "    d2_mb = cv2.filter2D(b, -1, kernel_d2)\n",
    "\n",
    "    combined_blur = cv2.addWeighted(vertical_mb, 0.25, horizonal_mb, 0.25, 0)\n",
    "    combined_blur = cv2.addWeighted(combined_blur, 0.5, d1_mb, 0.25, 0)\n",
    "    img = cv2.addWeighted(combined_blur, 0.5, d2_mb, 0.25, 0)\n",
    "\n",
    "    gimg = img\n",
    "    max_brightness_pixel = np.unravel_index(np.argmax(gimg), gimg.shape)\n",
    "    max_brightness_x, max_brightness_y = max_brightness_pixel\n",
    "\n",
    "    padding_size = 70\n",
    "    start_y = max(0, max_brightness_y - padding_size)\n",
    "    end_y = min(img.shape[0], max_brightness_y + padding_size)\n",
    "    start_x = max(0, max_brightness_x - padding_size)\n",
    "    end_x = min(img.shape[1], max_brightness_x + padding_size)\n",
    "\n",
    "    crop = crop[start_x:end_x, start_y:end_y ]\n",
    "\n",
    "    img = cv2.resize(crop, (target_height, target_width))\n",
    "    img = img.astype('float32') / 255 # Normalize pixel values\n",
    "    return img"
   ]
  }
 ],
 "metadata": {
  "accelerator": "GPU",
  "colab": {
   "gpuType": "T4",
   "provenance": []
  },
  "kernelspec": {
   "display_name": "myenv_tf",
   "language": "python",
   "name": "myenv"
  },
  "language_info": {
   "codemirror_mode": {
    "name": "ipython",
    "version": 3
   },
   "file_extension": ".py",
   "mimetype": "text/x-python",
   "name": "python",
   "nbconvert_exporter": "python",
   "pygments_lexer": "ipython3",
   "version": "3.10.13"
  }
 },
 "nbformat": 4,
 "nbformat_minor": 4
}
