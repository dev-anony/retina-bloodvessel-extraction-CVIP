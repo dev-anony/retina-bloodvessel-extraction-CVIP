{
 "cells": [
  {
   "cell_type": "code",
   "execution_count": 47,
   "metadata": {},
   "outputs": [],
   "source": [
    "import cv2\n",
    "import numpy as np\n"
   ]
  },
  {
   "cell_type": "code",
   "execution_count": 48,
   "metadata": {},
   "outputs": [
    {
     "name": "stdout",
     "output_type": "stream",
     "text": [
      "(612, 612, 3)\n"
     ]
    },
    {
     "data": {
      "text/plain": [
       "True"
      ]
     },
     "execution_count": 48,
     "metadata": {},
     "output_type": "execute_result"
    }
   ],
   "source": [
    "src = cv2.imread(r\"C:\\Users\\TIZEN\\Documents\\img.jpg\", cv2.IMREAD_UNCHANGED)\n",
    "print(src.shape)\n",
    "\n",
    "#extract green channel\n",
    "green_channel = src[:,:,1]\n",
    "\n",
    "#write green channel to greyscale image\n",
    "cv2.imwrite(r\"C:\\Users\\TIZEN\\Documents\\img1_grey.jpg\",green_channel) \n",
    "#"
   ]
  },
  {
   "cell_type": "code",
   "execution_count": 49,
   "metadata": {},
   "outputs": [
    {
     "data": {
      "text/plain": [
       "True"
      ]
     },
     "execution_count": 49,
     "metadata": {},
     "output_type": "execute_result"
    }
   ],
   "source": [
    "# Load the image\n",
    "img = cv2.imread(r\"C:\\Users\\TIZEN\\Documents\\img1_grey.jpg\")\n",
    "\n",
    "# Define the structuring element\n",
    "kernel = np.ones((5,5),np.uint8)\n",
    "# Perform the bottom-hat operation\n",
    "bottomhat = cv2.morphologyEx(img, cv2.MORPH_BLACKHAT, kernel)\n",
    "\n",
    "cv2.imwrite(r\"C:\\Users\\TIZEN\\Documents\\img2_hat.jpg\",bottomhat) \n",
    "\n",
    "# Perform the top-hat operation\n",
    "tophat = cv2.morphologyEx(img, cv2.MORPH_TOPHAT, kernel)\n",
    "\n",
    "cv2.imwrite(r\"C:\\Users\\TIZEN\\Documents\\img3_hat.jpg\",tophat) \n"
   ]
  },
  {
   "cell_type": "code",
   "execution_count": 50,
   "metadata": {},
   "outputs": [
    {
     "data": {
      "text/plain": [
       "True"
      ]
     },
     "execution_count": 50,
     "metadata": {},
     "output_type": "execute_result"
    }
   ],
   "source": [
    "# Load the image\n",
    "img = cv2.imread(r\"C:\\Users\\TIZEN\\Documents\\img3_hat.jpg\")\n",
    "\n",
    "# convert the input image to grayscale\n",
    "gray = cv2.cvtColor(img, cv2.COLOR_BGR2GRAY)\n",
    "\n",
    "# apply thresholding to convert grayscale to binary image\n",
    "ret,thresh = cv2.threshold(gray,2,255,0)\n",
    "\n",
    "\n",
    "cv2.imwrite(r\"C:\\Users\\TIZEN\\Documents\\bin.jpg\",thresh) "
   ]
  },
  {
   "cell_type": "code",
   "execution_count": 51,
   "metadata": {},
   "outputs": [
    {
     "data": {
      "text/plain": [
       "True"
      ]
     },
     "execution_count": 51,
     "metadata": {},
     "output_type": "execute_result"
    }
   ],
   "source": [
    "# Load the image\n",
    "img = cv2.imread(r\"C:\\Users\\TIZEN\\Documents\\bin.jpg\")\n",
    "\n",
    "# Convert the image to grayscale\n",
    "gray = cv2.cvtColor(img, cv2.COLOR_BGR2GRAY)\n",
    "\n",
    "# Apply adaptive thresholding\n",
    "thresh = cv2.adaptiveThreshold(gray, 255, cv2.ADAPTIVE_THRESH_MEAN_C, cv2.THRESH_BINARY_INV, 15, 3)\n",
    "\n",
    "# Apply morphological operations to remove noise\n",
    "kernel = np.ones((3,3), np.uint8)\n",
    "opening = cv2.morphologyEx(thresh, cv2.MORPH_OPEN, kernel, iterations=1)\n",
    "\n",
    "# Find contours of exudates\n",
    "contours, hierarchy = cv2.findContours(opening, cv2.RETR_EXTERNAL, cv2.CHAIN_APPROX_SIMPLE)\n",
    "\n",
    "# Draw contours on original image\n",
    "cv2.drawContours(img, contours, -1, (0,0,255), 2)\n",
    "\n",
    "cv2.imwrite(r\"C:\\Users\\TIZEN\\Documents\\exudate.jpg\",img) \n",
    "\n"
   ]
  }
 ],
 "metadata": {
  "kernelspec": {
   "display_name": "Python 3",
   "language": "python",
   "name": "python3"
  },
  "language_info": {
   "codemirror_mode": {
    "name": "ipython",
    "version": 3
   },
   "file_extension": ".py",
   "mimetype": "text/x-python",
   "name": "python",
   "nbconvert_exporter": "python",
   "pygments_lexer": "ipython3",
   "version": "3.10.2"
  },
  "orig_nbformat": 4
 },
 "nbformat": 4,
 "nbformat_minor": 2
}
